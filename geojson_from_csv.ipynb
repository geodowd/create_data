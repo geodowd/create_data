{
 "cells": [
  {
   "cell_type": "code",
   "execution_count": 1,
   "metadata": {},
   "outputs": [],
   "source": [
    "import pandas as pd\n",
    "import json\n",
    "import random\n"
   ]
  },
  {
   "cell_type": "code",
   "execution_count": 2,
   "metadata": {},
   "outputs": [],
   "source": [
    "csv_file=\"/Users/sgdowd/Documents/1_EODH/data/global_power_plant_database_with_assetcloss.csv\""
   ]
  },
  {
   "cell_type": "code",
   "execution_count": 3,
   "metadata": {},
   "outputs": [
    {
     "name": "stderr",
     "output_type": "stream",
     "text": [
      "/var/folders/5r/p7wfbbqj6ydb6pgtnh3vbz_w0000gq/T/ipykernel_54498/298181477.py:1: DtypeWarning: Columns (6,12,38) have mixed types. Specify dtype option on import or set low_memory=False.\n",
      "  df = pd.read_csv(csv_file)\n"
     ]
    }
   ],
   "source": [
    "df = pd.read_csv(csv_file)"
   ]
  },
  {
   "cell_type": "code",
   "execution_count": 4,
   "metadata": {},
   "outputs": [],
   "source": [
    "locations=[\"Europe\",\"North America\",\"South America\",\"Asia\",\"Africa\",\"Oceania\",\"Global\"]\n",
    "# Choose location at random\n",
    "def choose_location():\n",
    "    random_no = random.randint(0,6)\n",
    "    return locations[random_no]"
   ]
  },
  {
   "cell_type": "code",
   "execution_count": 5,
   "metadata": {},
   "outputs": [
    {
     "data": {
      "text/plain": [
       "'Oceania'"
      ]
     },
     "execution_count": 5,
     "metadata": {},
     "output_type": "execute_result"
    }
   ],
   "source": [
    "choose_location()"
   ]
  },
  {
   "cell_type": "code",
   "execution_count": 6,
   "metadata": {},
   "outputs": [],
   "source": [
    "def get_type(asset_class):\n",
    "    match asset_class:\n",
    "        case \"PowerGeneratingAsset\":\n",
    "            asset_type = \"Coal\"\n",
    "        case \"ThermalPowerGeneratingAsset\":\n",
    "            asset_type = \"Gas\"\n",
    "        case \"RealEstateAsset\":\n",
    "            asset_type = \"Buildings/Industrial\"\n",
    "        case \"IndustrialActivity\":\n",
    "            asset_type = \"Construction\"\n",
    "    return asset_type"
   ]
  },
  {
   "cell_type": "code",
   "execution_count": null,
   "metadata": {},
   "outputs": [],
   "source": []
  },
  {
   "cell_type": "code",
   "execution_count": 7,
   "metadata": {},
   "outputs": [],
   "source": [
    "def create_return_json(no_of_rows:int,asset_class:str):\n",
    "    geojson = {\n",
    "    \"type\": \"FeatureCollection\",\n",
    "    \"features\": [],\n",
    "    \"properties\": {\n",
    "        \"include_asset_level\": True,\n",
    "        \"include_calc_details\": True,\n",
    "        \"include_measures\": True,\n",
    "        \"years\": [2030, 2040, 2050],\n",
    "        \"scenarios\": [\"ssp126\", \"ssp245\",\"ssp585\"]\n",
    "    }\n",
    "    }\n",
    "    for index, row in df[0:no_of_rows].iterrows():\n",
    "        feature = {\n",
    "            \"type\": \"Feature\",\n",
    "            \"properties\": {\n",
    "                \"asset_class\": asset_class,\n",
    "                \"type\": get_type(asset_class),\n",
    "                \"location\": 'Asia',#choose_location(),\n",
    "            },\n",
    "            \"geometry\": {\n",
    "                \"type\": \"Point\",\n",
    "                \"coordinates\": [row['longitude'], row['latitude']]  # Assuming these columns exist\n",
    "            }\n",
    "        }\n",
    "        geojson['features'].append(feature)\n",
    "    geojson_string = json.dumps(geojson)#.replace('\"', '\\\\\"')\n",
    "    output_dict  ={\n",
    "    \"inputs\": {\n",
    "        \"workspace\": \"ddowding\",\n",
    "        \"json_string\":geojson_string\n",
    "    }}\n",
    "    with open(f'data/output_{asset_class}_{no_of_rows}.json', 'w') as f:\n",
    "        json.dump(output_dict, f)\n",
    "    return geojson_string"
   ]
  },
  {
   "cell_type": "code",
   "execution_count": 8,
   "metadata": {},
   "outputs": [],
   "source": [
    "asset_classes = [\"PowerGeneratingAsset\",\"ThermalPowerGeneratingAsset\",\"RealEstateAsset\",\"IndustrialActivity\"]\n",
    "for asset_class in asset_classes:\n",
    "    for no_of_rows in [10,500]:\n",
    "        create_return_json(no_of_rows,asset_class)"
   ]
  },
  {
   "cell_type": "markdown",
   "metadata": {},
   "source": [
    "return_geojson = create_return_json(500,\"PowerGeneratingAsset\")"
   ]
  }
 ],
 "metadata": {
  "kernelspec": {
   "display_name": ".venv",
   "language": "python",
   "name": "python3"
  },
  "language_info": {
   "codemirror_mode": {
    "name": "ipython",
    "version": 3
   },
   "file_extension": ".py",
   "mimetype": "text/x-python",
   "name": "python",
   "nbconvert_exporter": "python",
   "pygments_lexer": "ipython3",
   "version": "3.11.6"
  }
 },
 "nbformat": 4,
 "nbformat_minor": 2
}
