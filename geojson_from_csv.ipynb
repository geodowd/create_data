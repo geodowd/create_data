{
 "cells": [
  {
   "cell_type": "code",
   "execution_count": 5,
   "metadata": {},
   "outputs": [],
   "source": [
    "from pathlib import Path\n",
    "from methods import create_asset_gdf, create_request_json, get_result\n",
    "from create_data_logger import logger\n"
   ]
  },
  {
   "cell_type": "code",
   "execution_count": 2,
   "metadata": {},
   "outputs": [
    {
     "name": "stderr",
     "output_type": "stream",
     "text": [
      "/Users/sgdowd/Documents/1_EODH/create_data/methods.py:31: DtypeWarning: Columns (6,12,38) have mixed types. Specify dtype option on import or set low_memory=False.\n",
      "  assets_df = pd.read_csv(assets_csv)\n"
     ]
    }
   ],
   "source": [
    "assets_csv=\"/Users/sgdowd/Documents/1_EODH/data/global_power_plant_database_with_assetcloss.csv\"\n",
    "continents_gpkg = './World_Continents_6670117379411214938.gpkg'\n",
    "asset_classes = [\"PowerGeneratingAsset\",\"ThermalPowerGeneratingAsset\",\"RealEstateAsset\",\"IndustrialActivity\"]\n",
    "nos_of_rows = [10,500]\n",
    "experiment_no = 1\n",
    "base_dir = Path(\"./data\")\n",
    "assets_gdf = create_asset_gdf(assets_csv, continents_gpkg)\n"
   ]
  },
  {
   "cell_type": "code",
   "execution_count": 3,
   "metadata": {},
   "outputs": [],
   "source": [
    "\n",
    "for asset_class in asset_classes:\n",
    "    for no_of_rows in nos_of_rows:\n",
    "        logger.info(f\"Running experiment {experiment_no} for {asset_class} with {no_of_rows} rows\")\n",
    "        asset_dir = base_dir / asset_class\n",
    "        asset_dir.mkdir(exist_ok=True)\n",
    "        output_dir = asset_dir/f\"e{experiment_no}_{asset_class}_{no_of_rows}\"\n",
    "        output_dir.mkdir(exist_ok=True)\n",
    "        request_dict = create_request_json(assets_gdf=assets_gdf, asset_class=asset_class, no_of_rows=no_of_rows, output_file=output_dir/\"input.json\")\n",
    "        job_id = get_result(request_dict, output_dir/f\"output_{asset_class}_{no_of_rows}.json\")\n",
    "        with open(output_dir/\"job_id.txt\", \"w\") as f:\n",
    "            f.write(job_id)\n",
    "\n",
    "        "
   ]
  }
 ],
 "metadata": {
  "kernelspec": {
   "display_name": ".venv",
   "language": "python",
   "name": "python3"
  },
  "language_info": {
   "codemirror_mode": {
    "name": "ipython",
    "version": 3
   },
   "file_extension": ".py",
   "mimetype": "text/x-python",
   "name": "python",
   "nbconvert_exporter": "python",
   "pygments_lexer": "ipython3",
   "version": "3.11.6"
  }
 },
 "nbformat": 4,
 "nbformat_minor": 2
}
