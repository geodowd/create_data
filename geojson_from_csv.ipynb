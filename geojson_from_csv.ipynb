{
 "cells": [
  {
   "cell_type": "code",
   "execution_count": 26,
   "metadata": {},
   "outputs": [],
   "source": [
    "import pandas as pd\n",
    "import json\n",
    "import random\n"
   ]
  },
  {
   "cell_type": "code",
   "execution_count": 13,
   "metadata": {},
   "outputs": [],
   "source": [
    "csv_file=\"/Users/sgdowd/Documents/1_EODH/data/global_power_plant_database_with_assetcloss.csv\""
   ]
  },
  {
   "cell_type": "code",
   "execution_count": 14,
   "metadata": {},
   "outputs": [
    {
     "name": "stderr",
     "output_type": "stream",
     "text": [
      "/var/folders/5r/p7wfbbqj6ydb6pgtnh3vbz_w0000gq/T/ipykernel_11745/298181477.py:1: DtypeWarning: Columns (6,12,38) have mixed types. Specify dtype option on import or set low_memory=False.\n",
      "  df = pd.read_csv(csv_file)\n"
     ]
    }
   ],
   "source": [
    "df = pd.read_csv(csv_file)"
   ]
  },
  {
   "cell_type": "code",
   "execution_count": 28,
   "metadata": {},
   "outputs": [],
   "source": [
    "locations=[\"Europe\",\"North America\",\"South America\",\"Asia\",\"Africa\",\"Oceania\",\"Global\"]\n",
    "# Choose location at random\n",
    "def choose_location():\n",
    "    random_no = random.randint(0,6)\n",
    "    return locations[random_no]"
   ]
  },
  {
   "cell_type": "code",
   "execution_count": 47,
   "metadata": {},
   "outputs": [
    {
     "data": {
      "text/plain": [
       "'South America'"
      ]
     },
     "execution_count": 47,
     "metadata": {},
     "output_type": "execute_result"
    }
   ],
   "source": [
    "choose_location()"
   ]
  },
  {
   "cell_type": "code",
   "execution_count": 15,
   "metadata": {},
   "outputs": [],
   "source": [
    "def create_return_json(no_of_rows:int,name:str):\n",
    "    geojson = {\n",
    "    \"type\": \"FeatureCollection\",\n",
    "    \"features\": [],\n",
    "    \"properties\": {\n",
    "        \"include_asset_level\": True,\n",
    "        \"include_calc_details\": True,\n",
    "        \"include_measures\": True,\n",
    "        \"years\": [2030, 2040, 2050],\n",
    "        \"scenarios\": [\"ssp126\", \"ssp245\",\"ssp585\"]\n",
    "    }\n",
    "    }\n",
    "    for index, row in df[0:no_of_rows].iterrows():\n",
    "        feature = {\n",
    "            \"type\": \"Feature\",\n",
    "            \"properties\": {\n",
    "                \"asset_class\": 'IndustrialActivity',#row['asset_class'],  # Assuming these columns exist\n",
    "                \"type\": 'Construction',\n",
    "                \"location\": choose_location(),\n",
    "            },\n",
    "            \"geometry\": {\n",
    "                \"type\": \"Point\",\n",
    "                \"coordinates\": [row['longitude'], row['latitude']]  # Assuming these columns exist\n",
    "            }\n",
    "        }\n",
    "        geojson['features'].append(feature)\n",
    "    with open(f'data/output_{name}_{no_of_rows}.json', 'w') as f:\n",
    "        json.dump(geojson, f)"
   ]
  },
  {
   "cell_type": "code",
   "execution_count": 19,
   "metadata": {},
   "outputs": [],
   "source": [
    "create_return_json(10,\"industrial_activity\")"
   ]
  }
 ],
 "metadata": {
  "kernelspec": {
   "display_name": ".venv",
   "language": "python",
   "name": "python3"
  },
  "language_info": {
   "codemirror_mode": {
    "name": "ipython",
    "version": 3
   },
   "file_extension": ".py",
   "mimetype": "text/x-python",
   "name": "python",
   "nbconvert_exporter": "python",
   "pygments_lexer": "ipython3",
   "version": "3.11.6"
  }
 },
 "nbformat": 4,
 "nbformat_minor": 2
}
